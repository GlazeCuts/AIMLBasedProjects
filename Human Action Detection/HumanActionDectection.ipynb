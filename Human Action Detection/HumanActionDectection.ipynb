{
 "cells": [
  {
   "cell_type": "code",
   "execution_count": null,
   "id": "1f10a1fb",
   "metadata": {},
   "outputs": [],
   "source": [
    "import numpy as np\n",
    "import pandas as pd\n",
    "import matplotlib.pyplot as plt\n",
    "import seaborn as sns"
   ]
  },
  {
   "cell_type": "code",
   "execution_count": null,
   "id": "eb1d9524",
   "metadata": {},
   "outputs": [],
   "source": [
    "from sklearn.utils import resample\n",
    "from sklearn.preprocessing import LabelEncoder\n",
    "from sklearn.preprocessing import RobustScaler, StandardScaler\n",
    "from sklearn.model_selection import train_test_split, GridSearchCV"
   ]
  },
  {
   "cell_type": "code",
   "execution_count": null,
   "id": "480dbe54",
   "metadata": {},
   "outputs": [],
   "source": [
    "from sklearn.linear_model import LogisticRegression\n",
    "from sklearn.linear_model import Lasso\n",
    "from sklearn.neighbors import KNeighborsClassifier\n",
    "from sklearn.svm import SVC\n",
    "from sklearn.naive_bayes import GaussianNB\n",
    "from sklearn.tree import DecisionTreeClassifier\n",
    "from sklearn.ensemble import RandomForestClassifier\n",
    "import statsmodels.api as sm \n",
    "from sklearn.metrics import classification_report,r2_score,accuracy_score,recall_score,precision_score,f1_score, confusion_matrix, mean_absolute_error, mean_squared_error, mean_absolute_percentage_error"
   ]
  },
  {
   "cell_type": "code",
   "execution_count": null,
   "id": "0282bff9",
   "metadata": {},
   "outputs": [],
   "source": [
    "df = pd.read_csv(\"mhealth_raw_data.csv\")\n",
    "df"
   ]
  },
  {
   "cell_type": "code",
   "execution_count": null,
   "id": "b5e64268",
   "metadata": {},
   "outputs": [],
   "source": [
    "df.info()"
   ]
  },
  {
   "cell_type": "code",
   "execution_count": null,
   "id": "795dd94c",
   "metadata": {},
   "outputs": [],
   "source": [
    "df.describe().T"
   ]
  },
  {
   "cell_type": "code",
   "execution_count": null,
   "id": "4c8a4adc",
   "metadata": {},
   "outputs": [],
   "source": [
    "df.isnull().sum()"
   ]
  },
  {
   "cell_type": "code",
   "execution_count": null,
   "id": "650bd0e7",
   "metadata": {},
   "outputs": [],
   "source": [
    "df.duplicated().sum()"
   ]
  },
  {
   "cell_type": "code",
   "execution_count": null,
   "id": "9125e687",
   "metadata": {},
   "outputs": [],
   "source": [
    "plt.figure(figsize=(10,8))\n",
    "df['Activity'].value_counts().plot.bar()"
   ]
  },
  {
   "cell_type": "code",
   "execution_count": null,
   "id": "7f8a3128",
   "metadata": {},
   "outputs": [],
   "source": [
    "#since the data for 0 is too big, we will try to minimize it to match the other data\n",
    "data_activity_0 = df[df[\"Activity\"]==0]\n",
    "data_activity_else = df[df[\"Activity\"]!=0]\n",
    "data_activity_0 = data_activity_0.sample(n=40000)\n",
    "df=pd.concat([data_activity_0,data_activity_else])"
   ]
  },
  {
   "cell_type": "code",
   "execution_count": null,
   "id": "66210e92",
   "metadata": {},
   "outputs": [],
   "source": [
    "plt.figure(figsize=(10,8))\n",
    "df['Activity'].value_counts().plot.bar()"
   ]
  },
  {
   "cell_type": "code",
   "execution_count": null,
   "id": "d9ae114d",
   "metadata": {},
   "outputs": [],
   "source": [
    "activity_label = {\n",
    "    0: \"none\",\n",
    "    1: \"Standing still (1 min)\",\n",
    "    2: \"Sitting and relaxing (1 min)\",\n",
    "    3: \"Lying down (1 min)\",\n",
    "    4: \"Walking (1 min)\",\n",
    "    5: \"InClimbing stairs (1 min)\",\n",
    "    6: \"Waist bends forward (20x)\",\n",
    "    7: \"Frontal elevation of arms (20x)\",\n",
    "    8: \"Knees bending (crouching) (20x)\",\n",
    "    9: \"Cycling (1 min)\",\n",
    "    10: \"Jogging (1 min)\",\n",
    "    11: \"Running (1 min)\",\n",
    "    12: \"Jump front & back (20x)\"\n",
    "}"
   ]
  },
  {
   "cell_type": "code",
   "execution_count": null,
   "id": "19850a33",
   "metadata": {},
   "outputs": [],
   "source": [
    "subject1 = df[df['subject'] == 'subject1']\n",
    "readings = ['a', 'g']\n",
    "for i in range(1, 13):\n",
    "    for r in readings:\n",
    "        print(f\"=========================={activity_label[i]} - {r}==========================\")\n",
    "        plt.figure(figsize=(14, 4))\n",
    "        plt.subplot(1, 2, 1)\n",
    "        plt.plot(subject1[subject1['Activity'] == i].reset_index(drop=True)[r + 'lx'],\n",
    "                 color='blue', alpha=0.7, label=r + 'lx')\n",
    "        plt.plot(subject1[subject1['Activity'] == i].reset_index(drop=True)[r + 'ly'],\n",
    "                 color='red', alpha=0.7, label=r + 'ly')\n",
    "        plt.plot(subject1[subject1['Activity'] == i].reset_index(drop=True)[r + 'lz'],\n",
    "                 color='orange', alpha=0.7, label=r + 'lz')\n",
    "        plt.title(\"Left ankle sensor\")\n",
    "        plt.legend()\n",
    "        plt.subplot(1, 2, 2)\n",
    "        plt.plot(subject1[subject1['Activity'] == i].reset_index(drop=True)[r + 'rx'],\n",
    "                 color='blue', alpha=0.7, label=r + 'rx')\n",
    "        plt.plot(subject1[subject1['Activity'] == i].reset_index(drop=True)[r + 'ry'],\n",
    "                 color='red', alpha=0.7, label=r + 'ry')\n",
    "        plt.plot(subject1[subject1['Activity'] == i].reset_index(drop=True)[r + 'rz'],\n",
    "                 color='orange', alpha=0.7, label=r + 'rz')\n",
    "        plt.title(\"Right wrist sensor\")\n",
    "        plt.legend()\n",
    "        plt.show()"
   ]
  },
  {
   "cell_type": "code",
   "execution_count": null,
   "id": "4981a61e",
   "metadata": {},
   "outputs": [],
   "source": [
    "for i in range(1, 13):\n",
    "    for r in readings:\n",
    "        print(f\"=========================={activity_label[i]} - {r}==========================\")\n",
    "        plt.figure(figsize=(14, 4))\n",
    "        plt.subplot(1, 2, 1)\n",
    "        plt.hist(subject1[subject1['Activity'] == i].reset_index(drop=True)[r + 'lx'],\n",
    "                 color='blue', alpha=0.7, label=r + 'lx')\n",
    "        plt.hist(subject1[subject1['Activity'] == i].reset_index(drop=True)[r + 'ly'],\n",
    "                 color='red', alpha=0.7, label=r + 'ly')\n",
    "        plt.hist(subject1[subject1['Activity'] == i].reset_index(drop=True)[r + 'lz'],\n",
    "                 color='orange', alpha=0.7, label=r + 'lz')\n",
    "        plt.title(\"Left ankle sensor\")\n",
    "        plt.legend()\n",
    "        plt.subplot(1, 2, 2)\n",
    "        plt.hist(subject1[subject1['Activity'] == i].reset_index(drop=True)[r + 'rx'],\n",
    "                 color='blue', alpha=0.7, label=r + 'rx')\n",
    "        plt.hist(subject1[subject1['Activity'] == i].reset_index(drop=True)[r + 'ry'],\n",
    "                 color='red', alpha=0.7, label=r + 'ry')\n",
    "        plt.hist(subject1[subject1['Activity'] == i].reset_index(drop=True)[r + 'rz'],\n",
    "                 color='orange', alpha=0.7, label=r + 'rz')\n",
    "        plt.title(\"Right wrist sensor\")\n",
    "        plt.legend()\n",
    "        plt.show()"
   ]
  },
  {
   "cell_type": "code",
   "execution_count": null,
   "id": "daefd615",
   "metadata": {},
   "outputs": [],
   "source": [
    "df['Activity'] = df['Activity'].replace([0,1,2,3,4,5,6,7,8,9,10,11,12],[\"none\",\"Standing still (1 min)\",\"Sitting and relaxing (1 min)\",\"Lying down (1 min)\",\"Walking (1 min)\",\"InClimbing stairs (1 min)\",\"Waist bends forward (20x)\",\"Frontal elevation of arms (20x)\",\"Knees bending (crouching) (20x)\", \"Cycling (1 min)\",\"Jogging (1 min)\",\"Running (1 min)\",\"Jump front & back (20x)\"])\n",
    "df[\"Activity\"]"
   ]
  },
  {
   "cell_type": "code",
   "execution_count": null,
   "id": "c326362f",
   "metadata": {},
   "outputs": [],
   "source": [
    "df1 = df.copy()\n",
    "for feature in df1.columns[:-2]:\n",
    "    lower_range = np.quantile(df[feature], 0.01)\n",
    "    upper_range = np.quantile(df[feature], 0.99)\n",
    "    print(feature,\"range: \", lower_range, \"to\", upper_range)\n",
    "\n",
    "    df1 = df1.drop(df1[(df1[feature] > upper_range) | (df1[feature] < lower_range)].index)"
   ]
  },
  {
   "cell_type": "code",
   "execution_count": null,
   "id": "138a3652",
   "metadata": {},
   "outputs": [],
   "source": [
    "#data processing\n",
    "le = LabelEncoder()\n",
    "df['subject'] = le.fit_transform(df['subject'])\n",
    "df['Activity'] = le.fit_transform(df[\"Activity\"])\n",
    "df.plot(kind='box',subplots = True, layout = (5,5),figsize=(20,15))\n",
    "plt.show()"
   ]
  },
  {
   "cell_type": "code",
   "execution_count": null,
   "id": "ff7a49b6",
   "metadata": {},
   "outputs": [],
   "source": [
    "x = df.drop(['Activity','subject'],axis=1).values\n",
    "y = df['Activity'].values \n",
    "x_train,x_test,y_train,y_test = train_test_split(x,y,test_size=0.25)\n",
    "ro_scaler = RobustScaler().fit(x_train)\n",
    "x_train_scaled = ro_scaler.transform(x_train)\n",
    "x_test_scaled = ro_scaler.transform(x_test)"
   ]
  },
  {
   "cell_type": "code",
   "execution_count": null,
   "id": "1ba94690",
   "metadata": {},
   "outputs": [],
   "source": [
    "#model\n",
    "def resultsSummerizer(y_true,y_pred , cm_en = True):\n",
    "    cm = confusion_matrix(y_true,y_pred)\n",
    "    acc = accuracy_score(y_true,y_pred)\n",
    "    prec = precision_score(y_true,y_pred,average='macro')\n",
    "    rec = sensitivity = recall_score(y_true,y_pred,average='macro')\n",
    "    f1 = f1_score(y_true,y_pred,average= \"macro\")\n",
    "    if cm_en:\n",
    "        plt.figure(figsize=(15,15))\n",
    "        sns.heatmap(cm, annot= True,cmap=\"Blues\",xticklabels=activity_label.values(),yticklabels=activity_label.values())\n",
    "        plt.title('confusion_matrix')\n",
    "        plt.show()\n",
    "    print(f\"Accuracy Score: \"+\"{:.4%}\".format(acc))\n",
    "    print(f\"Precision Score: \"+\"{:.4%}\".format(prec))\n",
    "    print(f\"Recall Score: \"+\"{:.4%}\".format(rec))\n",
    "    print(f\"F1_sc Score: \"+\"{:.4%}\".format(f1))"
   ]
  },
  {
   "cell_type": "code",
   "execution_count": null,
   "id": "040c6eb2",
   "metadata": {},
   "outputs": [],
   "source": [
    "#logistic regression\n",
    "lr = LogisticRegression()\n",
    "lr.fit(x_train, y_train)\n",
    "lr.score(x_train, y_train)"
   ]
  },
  {
   "cell_type": "code",
   "execution_count": null,
   "id": "5464c883",
   "metadata": {},
   "outputs": [],
   "source": [
    "lr.score(x_test, y_test)\n",
    "lr2 = LogisticRegression()\n",
    "lr2.fit(x_train_scaled,y_train)\n",
    "lr2.score(x_train_scaled,y_train)\n"
   ]
  },
  {
   "cell_type": "code",
   "execution_count": null,
   "id": "c02410e5",
   "metadata": {},
   "outputs": [],
   "source": [
    "lr2.score(x_test_scaled,y_test)"
   ]
  },
  {
   "cell_type": "code",
   "execution_count": null,
   "id": "f0fa6512",
   "metadata": {},
   "outputs": [],
   "source": [
    "y_pred_lr = lr2.predict(x_test_scaled)"
   ]
  },
  {
   "cell_type": "code",
   "execution_count": null,
   "id": "8ea925ec",
   "metadata": {},
   "outputs": [],
   "source": [
    "# KNN\n",
    "knn1 = KNeighborsClassifier(n_neighbors=5)\n",
    "knn1.fit(x_train, y_train)\n"
   ]
  },
  {
   "cell_type": "code",
   "execution_count": null,
   "id": "efe335cf",
   "metadata": {},
   "outputs": [],
   "source": [
    "y_pred_knn = knn1.predict(x_test)\n",
    "resultsSummerizer(y_test,y_pred_knn,cm_en=False)"
   ]
  },
  {
   "cell_type": "code",
   "execution_count": null,
   "id": "fec7fd02",
   "metadata": {},
   "outputs": [],
   "source": [
    "knn2 = KNeighborsClassifier(n_neighbors=5)\n",
    "knn2.fit(x_train_scaled,y_train)\n",
    "y_pred_knn = knn2.predict(x_test_scaled)\n",
    "resultsSummerizer(y_test,y_pred_knn,cm_en=False)"
   ]
  },
  {
   "cell_type": "code",
   "execution_count": null,
   "id": "5a7d4145",
   "metadata": {},
   "outputs": [],
   "source": [
    "for n in range(1,11):\n",
    "    knn = KNeighborsClassifier(n_neighbors=n)\n",
    "    knn.fit(x_train_scaled,y_train)\n",
    "    y_pred = knn.predict(x_test_scaled)\n",
    "    print(f\"No of Neighbours: {n}\\n\")\n",
    "    resultsSummerizer(y_test,y_pred,cm_en=False )\n"
   ]
  },
  {
   "cell_type": "code",
   "execution_count": null,
   "id": "d63581ce",
   "metadata": {},
   "outputs": [],
   "source": [
    "dt = DecisionTreeClassifier(max_depth=1)\n",
    "dt.fit(x_train,y_train)\n",
    "y_pred_dt = dt.predict(x_test)\n",
    "resultsSummerizer(y_test,y_pred_dt)"
   ]
  }
 ],
 "metadata": {
  "language_info": {
   "name": "python"
  }
 },
 "nbformat": 4,
 "nbformat_minor": 5
}
